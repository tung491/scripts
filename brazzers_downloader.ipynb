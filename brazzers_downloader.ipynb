{
 "cells": [
  {
   "cell_type": "code",
   "execution_count": 104,
   "metadata": {},
   "outputs": [],
   "source": [
    "from selenium import webdriver\n",
    "from selenium.webdriver.common.keys import Keys\n",
    "import time\n",
    "from requests_html import HTML\n",
    "import os\n",
    "from IPython.display import clear_output\n",
    "import subprocess\n",
    "import re"
   ]
  },
  {
   "cell_type": "code",
   "execution_count": 78,
   "metadata": {},
   "outputs": [],
   "source": [
    "driver = webdriver.Chrome(executable_path='Downloads/chromedriver')"
   ]
  },
  {
   "cell_type": "code",
   "execution_count": 79,
   "metadata": {},
   "outputs": [],
   "source": [
    "driver.get('https://ma.brazzers.com')"
   ]
  },
  {
   "cell_type": "code",
   "execution_count": 106,
   "metadata": {},
   "outputs": [],
   "source": [
    "driver.find_element_by_name('username').send_keys('@hotmail.com')\n",
    "driver.find_element_by_name('password').send_keys('')"
   ]
  },
  {
   "cell_type": "code",
   "execution_count": 59,
   "metadata": {},
   "outputs": [],
   "source": [
    "with open('brazzers/Sites/Big Wet') as f:\n",
    "    urls = f.read().splitlines()"
   ]
  },
  {
   "cell_type": "code",
   "execution_count": 62,
   "metadata": {},
   "outputs": [],
   "source": [
    "root_path = 'Porn/Big Wet Butt/'"
   ]
  },
  {
   "cell_type": "code",
   "execution_count": 45,
   "metadata": {},
   "outputs": [
    {
     "data": {
      "text/plain": [
       "'Porn/most_rated/the-naked-wife_1080p.mp4/escandalo-2_1080p.mp4.crdownload'"
      ]
     },
     "execution_count": 45,
     "metadata": {},
     "output_type": "execute_result"
    }
   ],
   "source": [
    "os.path.join(path, urls[0][urls[0].rfind('/')+1:] + '_1080p.mp4.crdownload')"
   ]
  },
  {
   "cell_type": "code",
   "execution_count": null,
   "metadata": {},
   "outputs": [
    {
     "name": "stdout",
     "output_type": "stream",
     "text": [
      "59 https://site-ma.brazzers.com/scene/3868441/teasing-around-the-pool\n"
     ]
    }
   ],
   "source": [
    "for i, url in enumerate(urls[52:], start=52):\n",
    "    driver.get(url)\n",
    "    clear_output()\n",
    "    print(i, url)\n",
    "    count = 0\n",
    "    while count <= 20:\n",
    "        try:\n",
    "            driver.find_element_by_xpath('//div[@class=\"yox8zw-0 iUwxl\"]').click()\n",
    "            resolution = driver.find_element_by_class_name('o8a1bb-1').text\n",
    "            driver.find_element_by_class_name('o8a1bb-1').click()            \n",
    "        except Exception:\n",
    "            time.sleep(1)\n",
    "            count += 1\n",
    "        else:\n",
    "            break\n",
    "    time.sleep(2)\n",
    "    title = driver.find_element_by_class_name('sc-1b6bgon-1').text\n",
    "    title = re.sub(r\"[,!=.:;?@$]\", '', title.lower())\n",
    "    title = re.sub(\"'\", '-', title)\n",
    "    filename = '-'.join(title.split()) + f'_{resolution}.mp4'\n",
    "    while filename + '.crdownload' in os.listdir(root_path):\n",
    "        time.sleep(1)\n",
    "    time.sleep(1)\n",
    "    path = os.path.join(root_path, filename)\n",
    "    subprocess.call(['rclone', 'copy', path, 'remote:BigWetButt'])\n",
    "    os.remove(path)"
   ]
  },
  {
   "cell_type": "code",
   "execution_count": 57,
   "metadata": {},
   "outputs": [],
   "source": [
    "hrefs = []\n",
    "\n",
    "for i in range(1, 12):\n",
    "    driver.get(f'https://site-ma.brazzers.com/scenes?page={i}&q=diamond%20shea')\n",
    "    time.sleep(4)\n",
    "    page_source = driver.page_source\n",
    "    html = HTML(html=page_source)\n",
    "    hrefs.extend(html.xpath('//div[@class=\"sc-1mhpkp8-3 sc-1mhpkp8-4 dPUHnq\"]//a[@class=\"aq1tgu-1 hupvSc\"]/@href'))"
   ]
  },
  {
   "cell_type": "code",
   "execution_count": 34,
   "metadata": {},
   "outputs": [],
   "source": [
    "urls = ['https://site-ma.brazzers.com' +  href for href in hrefs]"
   ]
  },
  {
   "cell_type": "code",
   "execution_count": 58,
   "metadata": {},
   "outputs": [
    {
     "data": {
      "text/plain": [
       "257"
      ]
     },
     "execution_count": 58,
     "metadata": {},
     "output_type": "execute_result"
    }
   ],
   "source": [
    "len(urls)"
   ]
  },
  {
   "cell_type": "code",
   "execution_count": 59,
   "metadata": {},
   "outputs": [],
   "source": [
    "with open('shea.txt', 'w') as f:\n",
    "    for url in urls:\n",
    "        f.write(url + '\\n')"
   ]
  },
  {
   "cell_type": "code",
   "execution_count": 63,
   "metadata": {},
   "outputs": [],
   "source": [
    "hrefs = []\n",
    "\n",
    "for i in range(1, 3):\n",
    "    driver.get(f'https://site-ma.brazzers.com/scenes?models=5503&page={i}&sortby=rating')\n",
    "    time.sleep(4)\n",
    "    page_source = driver.page_source\n",
    "    html = HTML(html=page_source)\n",
    "    hrefs.extend(html.xpath('//div[@class=\"sc-1mhpkp8-3 sc-1mhpkp8-4 dPUHnq\"]//a[@class=\"aq1tgu-1 hupvSc\"]/@href'))"
   ]
  },
  {
   "cell_type": "code",
   "execution_count": 64,
   "metadata": {},
   "outputs": [],
   "source": [
    "urls = ['https://site-ma.brazzers.com' +  href for href in hrefs]"
   ]
  },
  {
   "cell_type": "code",
   "execution_count": 66,
   "metadata": {},
   "outputs": [
    {
     "data": {
      "text/plain": [
       "35"
      ]
     },
     "execution_count": 66,
     "metadata": {},
     "output_type": "execute_result"
    }
   ],
   "source": [
    "len(urls)"
   ]
  },
  {
   "cell_type": "code",
   "execution_count": 65,
   "metadata": {},
   "outputs": [],
   "source": [
    "with open('diamond_jackson.txt', 'w') as f:\n",
    "    for url in urls:\n",
    "        f.write(url + '\\n')"
   ]
  }
 ],
 "metadata": {
  "kernelspec": {
   "display_name": "Python 3",
   "language": "python",
   "name": "python3"
  },
  "language_info": {
   "codemirror_mode": {
    "name": "ipython",
    "version": 3
   },
   "file_extension": ".py",
   "mimetype": "text/x-python",
   "name": "python",
   "nbconvert_exporter": "python",
   "pygments_lexer": "ipython3",
   "version": "3.8.3"
  }
 },
 "nbformat": 4,
 "nbformat_minor": 4
}
