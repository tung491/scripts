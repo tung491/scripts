{
 "cells": [
  {
   "cell_type": "code",
   "execution_count": 1,
   "metadata": {},
   "outputs": [],
   "source": [
    "import time\n",
    "import os\n",
    "import subprocess"
   ]
  },
  {
   "cell_type": "code",
   "execution_count": 2,
   "metadata": {},
   "outputs": [],
   "source": [
    "from selenium import webdriver\n",
    "from selenium.webdriver.common.keys import Keys\n",
    "from requests_html import HTML\n",
    "from IPython.display import clear_output"
   ]
  },
  {
   "cell_type": "code",
   "execution_count": 5,
   "metadata": {},
   "outputs": [],
   "source": [
    "driver = webdriver.Chrome(executable_path='/Users/tung491/Downloads/chromedriver')"
   ]
  },
  {
   "cell_type": "code",
   "execution_count": 6,
   "metadata": {},
   "outputs": [],
   "source": [
    "driver.get('https://ma.brazzers.com')"
   ]
  },
  {
   "cell_type": "code",
   "execution_count": 6,
   "metadata": {},
   "outputs": [],
   "source": [
    "driver.find_element_by_name('username').send_keys('')\n",
    "driver.find_element_by_name('password').send_keys('')"
   ]
  },
  {
   "cell_type": "markdown",
   "metadata": {},
   "source": [
    "# Download Porn Videos"
   ]
  },
  {
   "cell_type": "code",
   "execution_count": 153,
   "metadata": {},
   "outputs": [],
   "source": [
    "with open('brazzers/Sites/Brazzers Exxxtra') as f:\n",
    "    urls = f.read().splitlines()"
   ]
  },
  {
   "cell_type": "code",
   "execution_count": 143,
   "metadata": {},
   "outputs": [],
   "source": [
    "name = 'Bridgette B'"
   ]
  },
  {
   "cell_type": "code",
   "execution_count": 144,
   "metadata": {},
   "outputs": [],
   "source": [
    "root_path = f'Porn/Asa Akira/'"
   ]
  },
  {
   "cell_type": "code",
   "execution_count": 145,
   "metadata": {},
   "outputs": [],
   "source": [
    "def rm_all_mp4_files_in(root_path):\n",
    "    for file in os.listdir(root_path):\n",
    "        path = os.path.join(root_path, file)\n",
    "        if os.path.isfile(path) and file.endswith('.mp4'):\n",
    "            os.remove(path)"
   ]
  },
  {
   "cell_type": "code",
   "execution_count": 149,
   "metadata": {},
   "outputs": [],
   "source": [
    "def has_mp4_file_in(root_path):\n",
    "    files = os.listdir(root_path)\n",
    "    for file in files:\n",
    "        path = os.path.join(root_path, file)\n",
    "        if os.path.isfile(path) and files[0].endswith('.mp4'):\n",
    "            return True\n",
    "    else:\n",
    "        return False"
   ]
  },
  {
   "cell_type": "code",
   "execution_count": 2,
   "metadata": {},
   "outputs": [],
   "source": [
    "def is_session_expired():\n",
    "    if driver.current_url == 'https://ma.brazzers.com/access/login/':\n",
    "        return True\n",
    "    return False"
   ]
  },
  {
   "cell_type": "code",
   "execution_count": null,
   "metadata": {
    "scrolled": true
   },
   "outputs": [
    {
     "name": "stdout",
     "output_type": "stream",
     "text": [
      "110 https://site-ma.brazzers.com/scene/3807631/danny-d-life-on-the-road-xxx-parody\n"
     ]
    }
   ],
   "source": [
    "rm_all_mp4_files_in(root_path)\n",
    "for i, url in enumerate(urls, start=0):\n",
    "    driver.get(url)\n",
    "    clear_output()\n",
    "    print(i, url)\n",
    "\n",
    "    while not is_session_expired():\n",
    "        time.sleep(2)\n",
    "    retry_times = 0\n",
    "    while retry_times <= 20:\n",
    "        try:\n",
    "            driver.find_element_by_xpath('//div[@class=\"yox8zw-0 iUwxl\"]').click()\n",
    "            driver.find_element_by_class_name('o8a1bb-1').click()            \n",
    "        except Exception:\n",
    "            time.sleep(1)\n",
    "            retry_times += 1\n",
    "        else:\n",
    "            break"
   ]
  },
  {
   "cell_type": "markdown",
   "metadata": {},
   "source": [
    "# Crawl to get all link in a site"
   ]
  },
  {
   "cell_type": "code",
   "execution_count": 63,
   "metadata": {},
   "outputs": [],
   "source": [
    "urls = []\n",
    "for page in range(1, 3):\n",
    "    driver.get(f'https://site-ma.brazzers.com/scenes?models=5503&page={page}&sortby=rating')\n",
    "    retry_times = 0\n",
    "    while retry_times < 20:\n",
    "        page_source = driver.page_source\n",
    "        html = HTML(html=page_source)\n",
    "        hrefs = html.xpath('//div[@class=\"sc-1mhpkp8-3 sc-1mhpkp8-4 dPUHnq\"]//a[@class=\"aq1tgu-1 hupvSc\"]/@href'))\n",
    "        if len(hrefs) > 0:\n",
    "            break\n",
    "    urls = "
   ]
  },
  {
   "cell_type": "code",
   "execution_count": 3,
   "metadata": {},
   "outputs": [
    {
     "ename": "NameError",
     "evalue": "name 'hrefs' is not defined",
     "output_type": "error",
     "traceback": [
      "\u001b[0;31m---------------------------------------------------------------------------\u001b[0m",
      "\u001b[0;31mNameError\u001b[0m                                 Traceback (most recent call last)",
      "\u001b[0;32m<ipython-input-3-8301a9f02603>\u001b[0m in \u001b[0;36m<module>\u001b[0;34m\u001b[0m\n\u001b[1;32m      1\u001b[0m \u001b[0;32mfrom\u001b[0m \u001b[0murllib\u001b[0m\u001b[0;34m.\u001b[0m\u001b[0mparse\u001b[0m \u001b[0;32mimport\u001b[0m \u001b[0murljoin\u001b[0m\u001b[0;34m\u001b[0m\u001b[0;34m\u001b[0m\u001b[0m\n\u001b[0;32m----> 2\u001b[0;31m \u001b[0murls\u001b[0m \u001b[0;34m=\u001b[0m \u001b[0;34m[\u001b[0m\u001b[0;34mf'https://site-ma.brazzers.com{href}'\u001b[0m \u001b[0;32mfor\u001b[0m \u001b[0mhref\u001b[0m \u001b[0;32min\u001b[0m \u001b[0mhrefs\u001b[0m\u001b[0;34m]\u001b[0m\u001b[0;34m\u001b[0m\u001b[0;34m\u001b[0m\u001b[0m\n\u001b[0m",
      "\u001b[0;31mNameError\u001b[0m: name 'hrefs' is not defined"
     ]
    }
   ],
   "source": [
    "from urllib.parse import urljoin\n",
    "urls = [urljoin('https://site-ma.brazzers.com', href) for href in hrefs]"
   ]
  },
  {
   "cell_type": "code",
   "execution_count": 66,
   "metadata": {},
   "outputs": [
    {
     "data": {
      "text/plain": [
       "35"
      ]
     },
     "execution_count": 66,
     "metadata": {},
     "output_type": "execute_result"
    }
   ],
   "source": [
    "len(urls)"
   ]
  },
  {
   "cell_type": "code",
   "execution_count": 65,
   "metadata": {},
   "outputs": [],
   "source": [
    "with open('diamond_jackson.txt', 'w') as f:\n",
    "    for url in urls:\n",
    "        f.write(url + '\\n')"
   ]
  }
 ],
 "metadata": {
  "kernelspec": {
   "display_name": "Python 3",
   "language": "python",
   "name": "python3"
  },
  "language_info": {
   "codemirror_mode": {
    "name": "ipython",
    "version": 3
   },
   "file_extension": ".py",
   "mimetype": "text/x-python",
   "name": "python",
   "nbconvert_exporter": "python",
   "pygments_lexer": "ipython3",
   "version": "3.8.3"
  }
 },
 "nbformat": 4,
 "nbformat_minor": 4
}
